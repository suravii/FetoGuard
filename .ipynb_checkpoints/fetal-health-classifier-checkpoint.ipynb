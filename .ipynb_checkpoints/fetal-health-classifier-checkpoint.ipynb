{
 "cells": [
  {
   "cell_type": "code",
   "execution_count": 1,
   "metadata": {
    "_cell_guid": "b1076dfc-b9ad-4769-8c92-a6c4dae69d19",
    "_uuid": "8f2839f25d086af736a60e9eeb907d3b93b6e0e5"
   },
   "outputs": [],
   "source": [
    "import numpy as np # linear algebra\n",
    "import pandas as pd # data processing, CSV file I/O (e.g. pd.read_csv)\n"
   ]
  },
  {
   "cell_type": "code",
   "execution_count": 2,
   "metadata": {},
   "outputs": [
    {
     "name": "stdout",
     "output_type": "stream",
     "text": [
      "Requirement already satisfied: missingno in c:\\users\\asus\\anaconda3\\envs\\freshenv\\lib\\site-packages (0.5.2)\n",
      "Requirement already satisfied: numpy in c:\\users\\asus\\anaconda3\\envs\\freshenv\\lib\\site-packages (from missingno) (1.23.5)\n",
      "Requirement already satisfied: matplotlib in c:\\users\\asus\\anaconda3\\envs\\freshenv\\lib\\site-packages (from missingno) (3.8.4)\n",
      "Requirement already satisfied: scipy in c:\\users\\asus\\anaconda3\\envs\\freshenv\\lib\\site-packages (from missingno) (1.13.1)\n",
      "Requirement already satisfied: seaborn in c:\\users\\asus\\anaconda3\\envs\\freshenv\\lib\\site-packages (from missingno) (0.13.2)\n",
      "Requirement already satisfied: contourpy>=1.0.1 in c:\\users\\asus\\anaconda3\\envs\\freshenv\\lib\\site-packages (from matplotlib->missingno) (1.2.0)\n",
      "Requirement already satisfied: cycler>=0.10 in c:\\users\\asus\\anaconda3\\envs\\freshenv\\lib\\site-packages (from matplotlib->missingno) (0.11.0)\n",
      "Requirement already satisfied: fonttools>=4.22.0 in c:\\users\\asus\\anaconda3\\envs\\freshenv\\lib\\site-packages (from matplotlib->missingno) (4.51.0)\n",
      "Requirement already satisfied: kiwisolver>=1.3.1 in c:\\users\\asus\\anaconda3\\envs\\freshenv\\lib\\site-packages (from matplotlib->missingno) (1.4.4)\n",
      "Requirement already satisfied: packaging>=20.0 in c:\\users\\asus\\anaconda3\\envs\\freshenv\\lib\\site-packages (from matplotlib->missingno) (24.1)\n",
      "Requirement already satisfied: pillow>=8 in c:\\users\\asus\\anaconda3\\envs\\freshenv\\lib\\site-packages (from matplotlib->missingno) (10.4.0)\n",
      "Requirement already satisfied: pyparsing>=2.3.1 in c:\\users\\asus\\anaconda3\\envs\\freshenv\\lib\\site-packages (from matplotlib->missingno) (3.0.9)\n",
      "Requirement already satisfied: python-dateutil>=2.7 in c:\\users\\asus\\anaconda3\\envs\\freshenv\\lib\\site-packages (from matplotlib->missingno) (2.9.0.post0)\n",
      "Requirement already satisfied: importlib-resources>=3.2.0 in c:\\users\\asus\\anaconda3\\envs\\freshenv\\lib\\site-packages (from matplotlib->missingno) (6.4.0)\n",
      "Requirement already satisfied: pandas>=1.2 in c:\\users\\asus\\anaconda3\\envs\\freshenv\\lib\\site-packages (from seaborn->missingno) (2.2.2)\n",
      "Requirement already satisfied: zipp>=3.1.0 in c:\\users\\asus\\anaconda3\\envs\\freshenv\\lib\\site-packages (from importlib-resources>=3.2.0->matplotlib->missingno) (3.17.0)\n",
      "Requirement already satisfied: pytz>=2020.1 in c:\\users\\asus\\anaconda3\\envs\\freshenv\\lib\\site-packages (from pandas>=1.2->seaborn->missingno) (2024.1)\n",
      "Requirement already satisfied: tzdata>=2022.7 in c:\\users\\asus\\anaconda3\\envs\\freshenv\\lib\\site-packages (from pandas>=1.2->seaborn->missingno) (2023.3)\n",
      "Requirement already satisfied: six>=1.5 in c:\\users\\asus\\anaconda3\\envs\\freshenv\\lib\\site-packages (from python-dateutil>=2.7->matplotlib->missingno) (1.16.0)\n"
     ]
    }
   ],
   "source": [
    "! pip install missingno"
   ]
  },
  {
   "cell_type": "code",
   "execution_count": 6,
   "metadata": {},
   "outputs": [],
   "source": [
    "# Load Dataset\n",
    "data = pd.read_csv('Data_Sets/fetal_health.csv')"
   ]
  },
  {
   "cell_type": "code",
   "execution_count": 7,
   "metadata": {},
   "outputs": [],
   "source": [
    "import warnings\n",
    "warnings.simplefilter(action=\"ignore\")\n",
    "\n",
    "from collections import Counter\n",
    "import warnings\n",
    "warnings.filterwarnings('ignore')\n",
    "\n",
    "# Import the necessary packages\n",
    "import numpy as np\n",
    "import pandas as pd\n",
    "\n",
    "# Data visualization\n",
    "import matplotlib.pyplot as plt\n",
    "import seaborn as sns\n",
    "import missingno as msno\n",
    "\n",
    "# Algorithms\n",
    "from sklearn.model_selection import cross_val_score\n",
    "from sklearn.model_selection import StratifiedKFold\n",
    "from sklearn.preprocessing import StandardScaler\n",
    "from sklearn.model_selection import train_test_split\n",
    "from sklearn import linear_model\n",
    "from sklearn.linear_model import LogisticRegression\n",
    "from sklearn.neighbors import KNeighborsClassifier\n",
    "from sklearn.ensemble import RandomForestClassifier\n",
    "from sklearn.ensemble import GradientBoostingClassifier\n",
    "from sklearn.model_selection import GridSearchCV\n",
    "from sklearn.metrics import classification_report, confusion_matrix\n",
    "from sklearn.metrics import mean_squared_error\n",
    "from sklearn.model_selection import learning_curve\n",
    "\n",
    "# Load Dataset\n",
    "data = pd.read_csv('Data_Sets/fetal_health.csv')\n",
    "columns = ['baseline value', 'accelerations', 'fetal_movement',\n",
    "           'uterine_contractions', 'light_decelerations', 'severe_decelerations',\n",
    "           'prolongued_decelerations', 'abnormal_short_term_variability',\n",
    "           'mean_value_of_short_term_variability',\n",
    "           'percentage_of_time_with_abnormal_long_term_variability',\n",
    "           'mean_value_of_long_term_variability', 'histogram_width',\n",
    "           'histogram_min', 'histogram_max', 'histogram_number_of_peaks',\n",
    "           'histogram_number_of_zeroes', 'histogram_mode', 'histogram_mean',\n",
    "           'histogram_median', 'histogram_variance', 'histogram_tendency']\n",
    "\n",
    "scale_X = StandardScaler()\n",
    "X = pd.DataFrame(scale_X.fit_transform(data.drop([\"fetal_health\"], axis=1)), columns=columns)\n"
   ]
  },
  {
   "cell_type": "code",
   "execution_count": 8,
   "metadata": {},
   "outputs": [],
   "source": [
    "columns = ['baseline value', 'accelerations', 'fetal_movement',\n",
    "       'uterine_contractions', 'light_decelerations', 'severe_decelerations',\n",
    "       'prolongued_decelerations', 'abnormal_short_term_variability',\n",
    "       'mean_value_of_short_term_variability',\n",
    "       'percentage_of_time_with_abnormal_long_term_variability',\n",
    "       'mean_value_of_long_term_variability', 'histogram_width',\n",
    "       'histogram_min', 'histogram_max', 'histogram_number_of_peaks',\n",
    "       'histogram_number_of_zeroes', 'histogram_mode', 'histogram_mean',\n",
    "       'histogram_median', 'histogram_variance', 'histogram_tendency']\n",
    "scale_X = StandardScaler()\n",
    "X =  pd.DataFrame(scale_X.fit_transform(data.drop([\"fetal_health\"],axis = 1),), columns = columns)"
   ]
  },
  {
   "cell_type": "code",
   "execution_count": 9,
   "metadata": {},
   "outputs": [
    {
     "data": {
      "text/html": [
       "<div>\n",
       "<style scoped>\n",
       "    .dataframe tbody tr th:only-of-type {\n",
       "        vertical-align: middle;\n",
       "    }\n",
       "\n",
       "    .dataframe tbody tr th {\n",
       "        vertical-align: top;\n",
       "    }\n",
       "\n",
       "    .dataframe thead th {\n",
       "        text-align: right;\n",
       "    }\n",
       "</style>\n",
       "<table border=\"1\" class=\"dataframe\">\n",
       "  <thead>\n",
       "    <tr style=\"text-align: right;\">\n",
       "      <th></th>\n",
       "      <th>baseline value</th>\n",
       "      <th>accelerations</th>\n",
       "      <th>fetal_movement</th>\n",
       "      <th>uterine_contractions</th>\n",
       "      <th>light_decelerations</th>\n",
       "      <th>severe_decelerations</th>\n",
       "      <th>prolongued_decelerations</th>\n",
       "      <th>abnormal_short_term_variability</th>\n",
       "      <th>mean_value_of_short_term_variability</th>\n",
       "      <th>percentage_of_time_with_abnormal_long_term_variability</th>\n",
       "      <th>...</th>\n",
       "      <th>histogram_width</th>\n",
       "      <th>histogram_min</th>\n",
       "      <th>histogram_max</th>\n",
       "      <th>histogram_number_of_peaks</th>\n",
       "      <th>histogram_number_of_zeroes</th>\n",
       "      <th>histogram_mode</th>\n",
       "      <th>histogram_mean</th>\n",
       "      <th>histogram_median</th>\n",
       "      <th>histogram_variance</th>\n",
       "      <th>histogram_tendency</th>\n",
       "    </tr>\n",
       "  </thead>\n",
       "  <tbody>\n",
       "    <tr>\n",
       "      <th>0</th>\n",
       "      <td>-1.352220</td>\n",
       "      <td>-0.822388</td>\n",
       "      <td>-0.20321</td>\n",
       "      <td>-1.482465</td>\n",
       "      <td>-0.638438</td>\n",
       "      <td>-0.057476</td>\n",
       "      <td>-0.268754</td>\n",
       "      <td>1.513190</td>\n",
       "      <td>-0.943095</td>\n",
       "      <td>1.802542</td>\n",
       "      <td>...</td>\n",
       "      <td>-0.165507</td>\n",
       "      <td>-1.068562</td>\n",
       "      <td>-2.119592</td>\n",
       "      <td>-0.701397</td>\n",
       "      <td>-0.458444</td>\n",
       "      <td>-1.065614</td>\n",
       "      <td>0.153270</td>\n",
       "      <td>-1.181642</td>\n",
       "      <td>1.870569</td>\n",
       "      <td>1.112980</td>\n",
       "    </tr>\n",
       "    <tr>\n",
       "      <th>1</th>\n",
       "      <td>-0.132526</td>\n",
       "      <td>0.730133</td>\n",
       "      <td>-0.20321</td>\n",
       "      <td>0.554627</td>\n",
       "      <td>0.375243</td>\n",
       "      <td>-0.057476</td>\n",
       "      <td>-0.268754</td>\n",
       "      <td>-1.744751</td>\n",
       "      <td>0.868841</td>\n",
       "      <td>-0.535361</td>\n",
       "      <td>...</td>\n",
       "      <td>1.529124</td>\n",
       "      <td>-0.865539</td>\n",
       "      <td>1.893794</td>\n",
       "      <td>0.655137</td>\n",
       "      <td>0.958201</td>\n",
       "      <td>0.216638</td>\n",
       "      <td>0.089126</td>\n",
       "      <td>0.132038</td>\n",
       "      <td>-0.234998</td>\n",
       "      <td>-0.524526</td>\n",
       "    </tr>\n",
       "    <tr>\n",
       "      <th>2</th>\n",
       "      <td>-0.030884</td>\n",
       "      <td>-0.046128</td>\n",
       "      <td>-0.20321</td>\n",
       "      <td>1.233657</td>\n",
       "      <td>0.375243</td>\n",
       "      <td>-0.057476</td>\n",
       "      <td>-0.268754</td>\n",
       "      <td>-1.802928</td>\n",
       "      <td>0.868841</td>\n",
       "      <td>-0.535361</td>\n",
       "      <td>...</td>\n",
       "      <td>1.529124</td>\n",
       "      <td>-0.865539</td>\n",
       "      <td>1.893794</td>\n",
       "      <td>0.316003</td>\n",
       "      <td>0.958201</td>\n",
       "      <td>0.216638</td>\n",
       "      <td>0.024982</td>\n",
       "      <td>-0.006244</td>\n",
       "      <td>-0.200481</td>\n",
       "      <td>-0.524526</td>\n",
       "    </tr>\n",
       "    <tr>\n",
       "      <th>3</th>\n",
       "      <td>0.070757</td>\n",
       "      <td>-0.046128</td>\n",
       "      <td>-0.20321</td>\n",
       "      <td>1.233657</td>\n",
       "      <td>0.375243</td>\n",
       "      <td>-0.057476</td>\n",
       "      <td>-0.268754</td>\n",
       "      <td>-1.802928</td>\n",
       "      <td>1.208579</td>\n",
       "      <td>-0.535361</td>\n",
       "      <td>...</td>\n",
       "      <td>1.195333</td>\n",
       "      <td>-1.373097</td>\n",
       "      <td>0.333033</td>\n",
       "      <td>2.350804</td>\n",
       "      <td>-0.458444</td>\n",
       "      <td>-0.027600</td>\n",
       "      <td>-0.039162</td>\n",
       "      <td>-0.075385</td>\n",
       "      <td>-0.200481</td>\n",
       "      <td>1.112980</td>\n",
       "    </tr>\n",
       "    <tr>\n",
       "      <th>4</th>\n",
       "      <td>-0.132526</td>\n",
       "      <td>0.988886</td>\n",
       "      <td>-0.20321</td>\n",
       "      <td>1.233657</td>\n",
       "      <td>-0.638438</td>\n",
       "      <td>-0.057476</td>\n",
       "      <td>-0.268754</td>\n",
       "      <td>-1.802928</td>\n",
       "      <td>1.208579</td>\n",
       "      <td>-0.535361</td>\n",
       "      <td>...</td>\n",
       "      <td>1.195333</td>\n",
       "      <td>-1.373097</td>\n",
       "      <td>0.333033</td>\n",
       "      <td>1.672537</td>\n",
       "      <td>-0.458444</td>\n",
       "      <td>-0.027600</td>\n",
       "      <td>0.089126</td>\n",
       "      <td>-0.006244</td>\n",
       "      <td>-0.269516</td>\n",
       "      <td>1.112980</td>\n",
       "    </tr>\n",
       "  </tbody>\n",
       "</table>\n",
       "<p>5 rows × 21 columns</p>\n",
       "</div>"
      ],
      "text/plain": [
       "   baseline value  accelerations  fetal_movement  uterine_contractions  \\\n",
       "0       -1.352220      -0.822388        -0.20321             -1.482465   \n",
       "1       -0.132526       0.730133        -0.20321              0.554627   \n",
       "2       -0.030884      -0.046128        -0.20321              1.233657   \n",
       "3        0.070757      -0.046128        -0.20321              1.233657   \n",
       "4       -0.132526       0.988886        -0.20321              1.233657   \n",
       "\n",
       "   light_decelerations  severe_decelerations  prolongued_decelerations  \\\n",
       "0            -0.638438             -0.057476                 -0.268754   \n",
       "1             0.375243             -0.057476                 -0.268754   \n",
       "2             0.375243             -0.057476                 -0.268754   \n",
       "3             0.375243             -0.057476                 -0.268754   \n",
       "4            -0.638438             -0.057476                 -0.268754   \n",
       "\n",
       "   abnormal_short_term_variability  mean_value_of_short_term_variability  \\\n",
       "0                         1.513190                             -0.943095   \n",
       "1                        -1.744751                              0.868841   \n",
       "2                        -1.802928                              0.868841   \n",
       "3                        -1.802928                              1.208579   \n",
       "4                        -1.802928                              1.208579   \n",
       "\n",
       "   percentage_of_time_with_abnormal_long_term_variability  ...  \\\n",
       "0                                           1.802542       ...   \n",
       "1                                          -0.535361       ...   \n",
       "2                                          -0.535361       ...   \n",
       "3                                          -0.535361       ...   \n",
       "4                                          -0.535361       ...   \n",
       "\n",
       "   histogram_width  histogram_min  histogram_max  histogram_number_of_peaks  \\\n",
       "0        -0.165507      -1.068562      -2.119592                  -0.701397   \n",
       "1         1.529124      -0.865539       1.893794                   0.655137   \n",
       "2         1.529124      -0.865539       1.893794                   0.316003   \n",
       "3         1.195333      -1.373097       0.333033                   2.350804   \n",
       "4         1.195333      -1.373097       0.333033                   1.672537   \n",
       "\n",
       "   histogram_number_of_zeroes  histogram_mode  histogram_mean  \\\n",
       "0                   -0.458444       -1.065614        0.153270   \n",
       "1                    0.958201        0.216638        0.089126   \n",
       "2                    0.958201        0.216638        0.024982   \n",
       "3                   -0.458444       -0.027600       -0.039162   \n",
       "4                   -0.458444       -0.027600        0.089126   \n",
       "\n",
       "   histogram_median  histogram_variance  histogram_tendency  \n",
       "0         -1.181642            1.870569            1.112980  \n",
       "1          0.132038           -0.234998           -0.524526  \n",
       "2         -0.006244           -0.200481           -0.524526  \n",
       "3         -0.075385           -0.200481            1.112980  \n",
       "4         -0.006244           -0.269516            1.112980  \n",
       "\n",
       "[5 rows x 21 columns]"
      ]
     },
     "execution_count": 9,
     "metadata": {},
     "output_type": "execute_result"
    }
   ],
   "source": [
    "X.head()"
   ]
  },
  {
   "cell_type": "code",
   "execution_count": 10,
   "metadata": {},
   "outputs": [],
   "source": [
    "y = data[\"fetal_health\"]"
   ]
  },
  {
   "cell_type": "code",
   "execution_count": 11,
   "metadata": {},
   "outputs": [],
   "source": [
    "# Importing train_test_split\n",
    "X_train, X_test, y_train, y_test = train_test_split(X, y, test_size = 0.3, random_state = 42, stratify = y)"
   ]
  },
  {
   "cell_type": "code",
   "execution_count": 12,
   "metadata": {},
   "outputs": [
    {
     "data": {
      "text/plain": [
       "((1488, 21), (638, 21), (1488,), (638,))"
      ]
     },
     "execution_count": 12,
     "metadata": {},
     "output_type": "execute_result"
    }
   ],
   "source": [
    "X_train.shape, X_test.shape, y_train.shape, y_test.shape"
   ]
  },
  {
   "cell_type": "code",
   "execution_count": 13,
   "metadata": {},
   "outputs": [],
   "source": [
    "from sklearn.metrics import accuracy_score, roc_auc_score, precision_score, recall_score, f1_score\n"
   ]
  },
  {
   "cell_type": "markdown",
   "metadata": {},
   "source": [
    "Gradient Boosting classifier (GBC)"
   ]
  },
  {
   "cell_type": "code",
   "execution_count": 14,
   "metadata": {},
   "outputs": [
    {
     "name": "stdout",
     "output_type": "stream",
     "text": [
      "Accuracy: 0.93\n",
      "Precision: 0.93\n",
      "Recall: 0.93\n",
      "F1 Score: 0.93\n",
      "AUC: 0.97\n",
      "Specificity: 0.93\n"
     ]
    }
   ],
   "source": [
    "# Initialize and train the Gradient Boosting Classifier model\n",
    "gb_classifier = GradientBoostingClassifier(n_estimators=100, random_state=42)  # You can adjust the number of estimators\n",
    "gb_classifier.fit(X_train, y_train)\n",
    "\n",
    "# Make predictions on the test set\n",
    "y_pred = gb_classifier.predict(X_test)\n",
    "\n",
    "# Calculate evaluation metrics\n",
    "accuracy = accuracy_score(y_test, y_pred)\n",
    "precision = precision_score(y_test, y_pred, average='weighted')  # Weighted precision for multiclass\n",
    "recall = recall_score(y_test, y_pred, average='weighted')  # Weighted recall for multiclass\n",
    "f1 = f1_score(y_test, y_pred, average='weighted')  # Weighted F1 score for multiclass\n",
    "\n",
    "# Calculate AUC for multiclass\n",
    "y_scores = gb_classifier.predict_proba(X_test)\n",
    "auc = roc_auc_score(y_test, y_scores, average='weighted', multi_class='ovr')\n",
    "\n",
    "# Calculate specificity for the entire multiclass problem\n",
    "confusion = confusion_matrix(y_test, y_pred)\n",
    "true_negatives = np.sum(np.diag(confusion))\n",
    "false_positives = np.sum(confusion) - true_negatives\n",
    "specificity = true_negatives / (true_negatives + false_positives)\n",
    "\n",
    "# Print the evaluation metrics, AUC, and specificity\n",
    "print(f\"Accuracy: {accuracy:.2f}\")\n",
    "print(f\"Precision: {precision:.2f}\")\n",
    "print(f\"Recall: {recall:.2f}\")\n",
    "print(f\"F1 Score: {f1:.2f}\")\n",
    "print(f\"AUC: {auc:.2f}\")\n",
    "print(f\"Specificity: {specificity:.2f}\")"
   ]
  },
  {
   "cell_type": "code",
   "execution_count": 15,
   "metadata": {},
   "outputs": [],
   "source": [
    "import pickle"
   ]
  },
  {
   "cell_type": "code",
   "execution_count": 16,
   "metadata": {},
   "outputs": [],
   "source": [
    "pickle.dump(gb_classifier, open('fetal_health_classifier.sav', 'wb'))"
   ]
  },
  {
   "cell_type": "code",
   "execution_count": null,
   "metadata": {},
   "outputs": [],
   "source": []
  },
  {
   "cell_type": "code",
   "execution_count": null,
   "metadata": {},
   "outputs": [],
   "source": []
  }
 ],
 "metadata": {
  "kaggle": {
   "accelerator": "gpu",
   "dataSources": [
    {
     "datasetId": 916586,
     "sourceId": 1553068,
     "sourceType": "datasetVersion"
    }
   ],
   "dockerImageVersionId": 30559,
   "isGpuEnabled": true,
   "isInternetEnabled": true,
   "language": "python",
   "sourceType": "notebook"
  },
  "kernelspec": {
   "display_name": "Python 3 (ipykernel)",
   "language": "python",
   "name": "python3"
  },
  "language_info": {
   "codemirror_mode": {
    "name": "ipython",
    "version": 3
   },
   "file_extension": ".py",
   "mimetype": "text/x-python",
   "name": "python",
   "nbconvert_exporter": "python",
   "pygments_lexer": "ipython3",
   "version": "3.9.19"
  }
 },
 "nbformat": 4,
 "nbformat_minor": 4
}
